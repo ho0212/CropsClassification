{
 "cells": [
  {
   "cell_type": "code",
   "execution_count": 1,
   "metadata": {},
   "outputs": [],
   "source": [
    "import numpy as np\n",
    "import pandas as pd\n",
    "import os\n",
    "import matplotlib.pyplot as plt\n",
    "import shutil\n",
    "import cv2\n",
    "from sklearn.model_selection import train_test_split\n",
    "from PIL import Image\n",
    "import tensorflow as tf"
   ]
  },
  {
   "cell_type": "code",
   "execution_count": 2,
   "metadata": {},
   "outputs": [
    {
     "name": "stdout",
     "output_type": "stream",
     "text": [
      "WARNING:tensorflow:From <ipython-input-2-a32398aaaac2>:2: is_gpu_available (from tensorflow.python.framework.test_util) is deprecated and will be removed in a future version.\n",
      "Instructions for updating:\n",
      "Use `tf.config.list_physical_devices('GPU')` instead.\n"
     ]
    },
    {
     "data": {
      "text/plain": [
       "True"
      ]
     },
     "execution_count": 2,
     "metadata": {},
     "output_type": "execute_result"
    }
   ],
   "source": [
    "import tensorflow as tf\n",
    "tf.test.is_gpu_available(\n",
    "    cuda_only=False, min_cuda_compute_capability=None\n",
    ")"
   ]
  },
  {
   "cell_type": "code",
   "execution_count": 3,
   "metadata": {},
   "outputs": [
    {
     "data": {
      "text/plain": [
       "True"
      ]
     },
     "execution_count": 3,
     "metadata": {},
     "output_type": "execute_result"
    }
   ],
   "source": [
    "data_path = \"H:\\\\AICUP\\\\trainset_800\"\n",
    "os.path.exists(data_path)"
   ]
  },
  {
   "cell_type": "code",
   "execution_count": 4,
   "metadata": {},
   "outputs": [],
   "source": [
    "def DataList(data_path):\n",
    "  img_list, data_label, data_types = [], [], []\n",
    "  class_path = \"\"\n",
    "  for root, dirs, files in os.walk(data_path):\n",
    "    if root.split(\"\\\\\")[-1]!=\"model-logs\":\n",
    "      for file in files:\n",
    "        if file.find(\"checkpoint\")==-1:\n",
    "          if file[-3:]==\"csv\":\n",
    "            #class_path = os.path.join(root, file)\n",
    "            class_path=root+\"\\\\\"+file\n",
    "          else:\n",
    "            #img_list.append(os.path.join(root, file))\n",
    "            img_list.append(root+\"\\\\\"+file)\n",
    "            label = root.split(\"\\\\\")[-1]\n",
    "            types = root.split(\"\\\\\")[-2]\n",
    "            data_label.append(label)\n",
    "            data_types.append(types)\n",
    "  data_list = pd.DataFrame({\"img_path\":img_list, \"label_name\":data_label, \"types\":data_types})\n",
    "  \n",
    "  if class_path != \"\":\n",
    "    class_map = pd.read_csv(class_path, header=None)\n",
    "    class_map = dict(class_map.values)\n",
    "  else:\n",
    "    class_map = data_list[data_list[\"types\"]==\"train\"][\"label_name\"].unique()\n",
    "    class_map = {label: str(i) for i, label in enumerate(class_map)}\n",
    "    print(class_map)\n",
    "\n",
    "  data_list[\"label\"] = data_list[\"label_name\"].map(class_map)\n",
    "  \n",
    "  train_list = data_list[data_list[\"types\"]==\"train\"][[\"img_path\", \"label_name\", \"label\"]].copy()\n",
    "  valid_list = data_list[data_list[\"types\"]==\"valid\"][[\"img_path\", \"label_name\", \"label\"]].copy()\n",
    "  test_list = data_list[data_list[\"types\"]==\"test\"][[\"img_path\", \"label_name\", \"label\"]].copy()\n",
    "\n",
    "  return train_list, valid_list, test_list, class_map"
   ]
  },
  {
   "cell_type": "code",
   "execution_count": 5,
   "metadata": {},
   "outputs": [
    {
     "name": "stdout",
     "output_type": "stream",
     "text": [
      "{'asparagus': '0', 'bambooshoots': '1', 'betel': '2', 'broccoli': '3', 'cauliflower': '4', 'chinesecabbage': '5', 'chinesechives': '6', 'custardapple': '7', 'grape': '8', 'greenhouse': '9', 'greenonion': '10', 'kale': '11', 'lemon': '12', 'lettuce': '13', 'litchi': '14', 'longan': '15', 'loofah': '16', 'mango': '17', 'onion': '18', 'others': '19', 'papaya': '20', 'passionfruit': '21', 'pear': '22', 'pennisetum': '23', 'redbeans': '24', 'roseapple': '25', 'sesbania': '26', 'soybeans': '27', 'sunhemp': '28', 'sweetpotato': '29', 'taro': '30', 'tea': '31', 'waterbamboo': '32'}\n"
     ]
    }
   ],
   "source": [
    "train_list, valid_list, test_list, class_map = DataList(data_path)"
   ]
  },
  {
   "cell_type": "code",
   "execution_count": 6,
   "metadata": {},
   "outputs": [
    {
     "data": {
      "text/html": [
       "<div>\n",
       "<style scoped>\n",
       "    .dataframe tbody tr th:only-of-type {\n",
       "        vertical-align: middle;\n",
       "    }\n",
       "\n",
       "    .dataframe tbody tr th {\n",
       "        vertical-align: top;\n",
       "    }\n",
       "\n",
       "    .dataframe thead th {\n",
       "        text-align: right;\n",
       "    }\n",
       "</style>\n",
       "<table border=\"1\" class=\"dataframe\">\n",
       "  <thead>\n",
       "    <tr style=\"text-align: right;\">\n",
       "      <th></th>\n",
       "      <th>img_path</th>\n",
       "      <th>label_name</th>\n",
       "      <th>label</th>\n",
       "    </tr>\n",
       "  </thead>\n",
       "  <tbody>\n",
       "    <tr>\n",
       "      <th>8952</th>\n",
       "      <td>H:\\AICUP\\trainset_800\\train\\asparagus\\000b43a3...</td>\n",
       "      <td>asparagus</td>\n",
       "      <td>0</td>\n",
       "    </tr>\n",
       "    <tr>\n",
       "      <th>8953</th>\n",
       "      <td>H:\\AICUP\\trainset_800\\train\\asparagus\\00172189...</td>\n",
       "      <td>asparagus</td>\n",
       "      <td>0</td>\n",
       "    </tr>\n",
       "    <tr>\n",
       "      <th>8954</th>\n",
       "      <td>H:\\AICUP\\trainset_800\\train\\asparagus\\002aec7b...</td>\n",
       "      <td>asparagus</td>\n",
       "      <td>0</td>\n",
       "    </tr>\n",
       "    <tr>\n",
       "      <th>8955</th>\n",
       "      <td>H:\\AICUP\\trainset_800\\train\\asparagus\\007cd63a...</td>\n",
       "      <td>asparagus</td>\n",
       "      <td>0</td>\n",
       "    </tr>\n",
       "    <tr>\n",
       "      <th>8956</th>\n",
       "      <td>H:\\AICUP\\trainset_800\\train\\asparagus\\00a326ba...</td>\n",
       "      <td>asparagus</td>\n",
       "      <td>0</td>\n",
       "    </tr>\n",
       "    <tr>\n",
       "      <th>...</th>\n",
       "      <td>...</td>\n",
       "      <td>...</td>\n",
       "      <td>...</td>\n",
       "    </tr>\n",
       "    <tr>\n",
       "      <th>80558</th>\n",
       "      <td>H:\\AICUP\\trainset_800\\train\\waterbamboo\\ffb5fc...</td>\n",
       "      <td>waterbamboo</td>\n",
       "      <td>32</td>\n",
       "    </tr>\n",
       "    <tr>\n",
       "      <th>80559</th>\n",
       "      <td>H:\\AICUP\\trainset_800\\train\\waterbamboo\\ffd756...</td>\n",
       "      <td>waterbamboo</td>\n",
       "      <td>32</td>\n",
       "    </tr>\n",
       "    <tr>\n",
       "      <th>80560</th>\n",
       "      <td>H:\\AICUP\\trainset_800\\train\\waterbamboo\\ffd9c5...</td>\n",
       "      <td>waterbamboo</td>\n",
       "      <td>32</td>\n",
       "    </tr>\n",
       "    <tr>\n",
       "      <th>80561</th>\n",
       "      <td>H:\\AICUP\\trainset_800\\train\\waterbamboo\\fff0cf...</td>\n",
       "      <td>waterbamboo</td>\n",
       "      <td>32</td>\n",
       "    </tr>\n",
       "    <tr>\n",
       "      <th>80562</th>\n",
       "      <td>H:\\AICUP\\trainset_800\\train\\waterbamboo\\fff7ba...</td>\n",
       "      <td>waterbamboo</td>\n",
       "      <td>32</td>\n",
       "    </tr>\n",
       "  </tbody>\n",
       "</table>\n",
       "<p>71611 rows × 3 columns</p>\n",
       "</div>"
      ],
      "text/plain": [
       "                                                img_path   label_name label\n",
       "8952   H:\\AICUP\\trainset_800\\train\\asparagus\\000b43a3...    asparagus     0\n",
       "8953   H:\\AICUP\\trainset_800\\train\\asparagus\\00172189...    asparagus     0\n",
       "8954   H:\\AICUP\\trainset_800\\train\\asparagus\\002aec7b...    asparagus     0\n",
       "8955   H:\\AICUP\\trainset_800\\train\\asparagus\\007cd63a...    asparagus     0\n",
       "8956   H:\\AICUP\\trainset_800\\train\\asparagus\\00a326ba...    asparagus     0\n",
       "...                                                  ...          ...   ...\n",
       "80558  H:\\AICUP\\trainset_800\\train\\waterbamboo\\ffb5fc...  waterbamboo    32\n",
       "80559  H:\\AICUP\\trainset_800\\train\\waterbamboo\\ffd756...  waterbamboo    32\n",
       "80560  H:\\AICUP\\trainset_800\\train\\waterbamboo\\ffd9c5...  waterbamboo    32\n",
       "80561  H:\\AICUP\\trainset_800\\train\\waterbamboo\\fff0cf...  waterbamboo    32\n",
       "80562  H:\\AICUP\\trainset_800\\train\\waterbamboo\\fff7ba...  waterbamboo    32\n",
       "\n",
       "[71611 rows x 3 columns]"
      ]
     },
     "execution_count": 6,
     "metadata": {},
     "output_type": "execute_result"
    }
   ],
   "source": [
    "train_list"
   ]
  },
  {
   "cell_type": "code",
   "execution_count": 7,
   "metadata": {},
   "outputs": [],
   "source": [
    "# class_map={'asparagus':0,'bambooshoots':1,'betel':2,'broccoli':3,'cauliflower':4,'chinesecabbage':5,'chinesechives':6,\n",
    "#                'custardapple':7,'grape':8,'greenhouse':9,'greenonion':10,'kale':11,'lemon':12,'lettuce':13,'litchi':14,\n",
    "#                'longan':15,'loofah':16,'mango':17,'onion':18,'others':19,'papaya':20,'passionfruit':21,'pear':22,\n",
    "#                'pennisetum':23,'redbeans':24,'roseapple':25,'sesbania':26,'soybeans':27,'sunhemp':28,'sweetpotato':29,\n",
    "#                'taro':30,'tea':31,'waterbamboo':32}\n",
    "class_map_new={'others':0,'nonothers':1}"
   ]
  },
  {
   "cell_type": "code",
   "execution_count": 8,
   "metadata": {},
   "outputs": [],
   "source": [
    "#extract classes from 0 class\n",
    "# train_list_new=train_list[train_list[\"label\"]==0]\n",
    "# valid_list_new=valid_list[valid_list['label']==0]\n",
    "# test_list_new=test_list[test_list['label']==0]\n",
    "# for i in range(17):\n",
    "#     label=str(i)\n",
    "#     t=train_list[train_list[\"label\"]==label]\n",
    "#     train_list_new=pd.concat([train_list_new,t])\n",
    "#     v=valid_list[valid_list[\"label\"]==label]\n",
    "#     valid_list_new=pd.concat([valid_list_new,v])\n",
    "#     test=test_list[test_list[\"label\"]==label]\n",
    "#     test_list_new=pd.concat([test_list_new,test])\n",
    "# print(train_list_new)\n",
    "# print(valid_list_new)\n",
    "# print(test_list_new)"
   ]
  },
  {
   "cell_type": "code",
   "execution_count": 9,
   "metadata": {},
   "outputs": [],
   "source": [
    "#extract specific classes\n",
    "train_list_new=train_list[train_list[\"label\"]=='1']\n",
    "train_list_new=pd.concat([train_list_new,train_list[train_list[\"label\"]=='2']])\n",
    "valid_list_new=valid_list[valid_list['label']=='1']\n",
    "valid_list_new=pd.concat([valid_list_new,valid_list[valid_list[\"label\"]=='2']])\n",
    "test_list_new=test_list[test_list['label']=='1']\n",
    "test_list_new=pd.concat([test_list_new,test_list[test_list[\"label\"]=='2']])\n",
    "\n",
    "train_list_new=train_list_new.replace([\"1\",\"2\"],['0','1'])\n",
    "valid_list_new=valid_list_new.replace([\"1\",\"2\"],['0','1'])\n",
    "test_list_new=test_list_new.replace([\"1\",\"2\"],['0','1'])"
   ]
  },
  {
   "cell_type": "code",
   "execution_count": 10,
   "metadata": {},
   "outputs": [
    {
     "data": {
      "text/plain": [
       "dict_keys(['bambooshoots', 'betel'])"
      ]
     },
     "execution_count": 10,
     "metadata": {},
     "output_type": "execute_result"
    }
   ],
   "source": [
    "class_map_new.keys()\n",
    "#class_map.keys()"
   ]
  },
  {
   "cell_type": "code",
   "execution_count": 11,
   "metadata": {},
   "outputs": [],
   "source": [
    "from tensorflow import keras\n",
    "from tensorflow.keras import layers\n",
    "from tensorflow.keras import callbacks"
   ]
  },
  {
   "cell_type": "code",
   "execution_count": 12,
   "metadata": {},
   "outputs": [
    {
     "data": {
      "text/plain": [
       "2"
      ]
     },
     "execution_count": 12,
     "metadata": {},
     "output_type": "execute_result"
    }
   ],
   "source": [
    "#num_classes = train_list_new[\"label\"].unique().shape[0]\n",
    "num_classes = train_list_new[\"label\"].unique().shape[0]\n",
    "num_classes"
   ]
  },
  {
   "cell_type": "code",
   "execution_count": 30,
   "metadata": {},
   "outputs": [],
   "source": [
    "img_shape = (400,400)\n",
    "batch_size = 8"
   ]
  },
  {
   "cell_type": "code",
   "execution_count": 31,
   "metadata": {},
   "outputs": [],
   "source": [
    "from tensorflow.keras.preprocessing.image import ImageDataGenerator"
   ]
  },
  {
   "cell_type": "code",
   "execution_count": 32,
   "metadata": {},
   "outputs": [],
   "source": [
    "from tensorflow.keras.applications.xception import Xception,preprocess_input"
   ]
  },
  {
   "cell_type": "code",
   "execution_count": 33,
   "metadata": {},
   "outputs": [],
   "source": [
    "def HSV(image):\n",
    "    image = np.array(image)\n",
    "    hsv_image = cv2.cvtColor(image,cv2.COLOR_RGB2HSV)\n",
    "    hsv_image=tf.image.adjust_saturation(hsv_image,0.5)#飽和度\n",
    "    hsv_image=tf.image.adjust_brightness(hsv_image,0.5)#亮度\n",
    "    return Image.fromarray(np.uint8(hsv_image))"
   ]
  },
  {
   "cell_type": "code",
   "execution_count": 34,
   "metadata": {},
   "outputs": [],
   "source": [
    "train_datagen = ImageDataGenerator(\n",
    "                    rotation_range=20,\n",
    "                    horizontal_flip=True,\n",
    "                    vertical_flip=True,\n",
    "                    zoom_range=0.2,\n",
    "                    brightness_range=(1,3),\n",
    "                    preprocessing_function=preprocess_input\n",
    "                    )\n",
    "valid_datagen = ImageDataGenerator(preprocessing_function=preprocess_input)\n",
    "test_datagen = ImageDataGenerator(preprocessing_function=preprocess_input)"
   ]
  },
  {
   "cell_type": "code",
   "execution_count": 35,
   "metadata": {},
   "outputs": [
    {
     "name": "stdout",
     "output_type": "stream",
     "text": [
      "Found 5108 validated image filenames belonging to 2 classes.\n",
      "Found 638 validated image filenames belonging to 2 classes.\n",
      "Found 639 validated image filenames.\n"
     ]
    }
   ],
   "source": [
    "train_generator = train_datagen.flow_from_dataframe(\n",
    "                              dataframe=train_list_new,#need to be changed\n",
    "                              directory=\"\",\n",
    "                              x_col=\"img_path\",\n",
    "                              y_col=\"label_name\",\n",
    "                              target_size=img_shape,\n",
    "                              batch_size=batch_size,\n",
    "                              class_mode='categorical')\n",
    "valid_generator = valid_datagen.flow_from_dataframe(\n",
    "                              dataframe=valid_list_new,#need to be changed\n",
    "                              directory=\"\",\n",
    "                              x_col=\"img_path\",\n",
    "                              y_col=\"label_name\",\n",
    "                              target_size=img_shape,\n",
    "                              batch_size=batch_size,\n",
    "                              class_mode='categorical',\n",
    "                              shuffle=False)\n",
    "test_generator = test_datagen.flow_from_dataframe(\n",
    "                              dataframe=test_list_new,#need to be changed\n",
    "                              directory=\"\",\n",
    "                              x_col=\"img_path\",\n",
    "                              y_col=\"label_name\",\n",
    "                              target_size=img_shape,\n",
    "                              batch_size=batch_size,\n",
    "                              class_mode=None,\n",
    "                              shuffle=False)"
   ]
  },
  {
   "cell_type": "code",
   "execution_count": 36,
   "metadata": {},
   "outputs": [
    {
     "name": "stderr",
     "output_type": "stream",
     "text": [
      "Clipping input data to the valid range for imshow with RGB data ([0..1] for floats or [0..255] for integers).\n"
     ]
    },
    {
     "name": "stdout",
     "output_type": "stream",
     "text": [
      "(8, 400, 400, 3)\n",
      "(400, 400, 3) 1.0 -1.0\n"
     ]
    },
    {
     "data": {
      "text/plain": [
       "<matplotlib.image.AxesImage at 0x20011ca8790>"
      ]
     },
     "execution_count": 36,
     "metadata": {},
     "output_type": "execute_result"
    },
    {
     "data": {
      "image/png": "[encoded data removed]",
      "text/plain": [
       "<Figure size 432x288 with 1 Axes>"
      ]
     },
     "metadata": {
      "needs_background": "light"
     },
     "output_type": "display_data"
    }
   ],
   "source": [
    "(data_train,label_train)= train_generator.next()\n",
    "print(data_train.shape)\n",
    "img=data_train[-1,:,:,:]\n",
    "img=img\n",
    "print(img.shape,img.max(),img.min())\n",
    "plt.imshow(img)"
   ]
  },
  {
   "cell_type": "code",
   "execution_count": 37,
   "metadata": {},
   "outputs": [],
   "source": [
    "pre_model = Xception(weights='imagenet', input_shape=(img_shape[0], img_shape[1], 3), include_top=False)\n",
    "\n",
    "x = layers.AveragePooling2D()(pre_model.output)\n",
    "x=layers.Flatten()(x)\n",
    "# x = layers.Dense(64, activation=\"relu\")(x)\n",
    "\n",
    "outputs = layers.Dense(num_classes, activation=\"softmax\")(x)"
   ]
  },
  {
   "cell_type": "code",
   "execution_count": 38,
   "metadata": {},
   "outputs": [],
   "source": [
    "model = keras.models.Model(inputs=pre_model.inputs, outputs=outputs)"
   ]
  },
  {
   "cell_type": "code",
   "execution_count": 39,
   "metadata": {},
   "outputs": [],
   "source": [
    "def lr_schedule(epoch):\n",
    "    lrate=0.001\n",
    "    if epoch>10:\n",
    "        lrate=0.0005\n",
    "    if epoch>15:\n",
    "        lrate=0.0003\n",
    "    if epoch>20:\n",
    "        lrate=0.0001\n",
    "    return lrate"
   ]
  },
  {
   "cell_type": "code",
   "execution_count": 40,
   "metadata": {},
   "outputs": [],
   "source": [
    "import tensorflow as tf\n",
    "\n",
    "model_dir = os.path.join(data_path, 'model-logs')\n",
    "if not os.path.exists(model_dir):\n",
    "    os.makedirs(model_dir)\n",
    "\n",
    "\n",
    "modelfiles = model_dir + '/{}-best-model-test000.h5'.format('basic_model')\n",
    "model_mckp = callbacks.ModelCheckpoint(modelfiles,\n",
    "                      monitor='val_accuracy',\n",
    "                      save_best_only=True)\n",
    "\n",
    "earlystop = callbacks.EarlyStopping(monitor='val_loss',\n",
    "                    patience=3,\n",
    "                    verbose=1)\n",
    "reduce_lr=callbacks.ReduceLROnPlateau(monitor='val_loss',factor=0.1,\n",
    "                                      patience=10,min_lr=0.001,\n",
    "                                      verbose=0,mode='auto',\n",
    "                                      min_delta=0.001,cooldown=0)\n",
    "import datetime\n",
    "logdir=os.path.join(data_path,'logs',datetime.datetime.now().strftime('%Y%m%d-%H%M%S'))\n",
    "tensorboard_callback=tf.keras.callbacks.TensorBoard(logdir,\n",
    "                                                    histogram_freq=1,\n",
    "                                                    write_images=True,\n",
    "                                                    embeddings_freq=1)\n",
    "\n",
    "lrschedule=tf.keras.callbacks.LearningRateScheduler(lr_schedule)\n",
    "callbacks_list = [model_mckp,lrschedule]"
   ]
  },
  {
   "cell_type": "code",
   "execution_count": 41,
   "metadata": {},
   "outputs": [],
   "source": [
    "def num_steps_per_epoch(data_generator, batch_size):\n",
    "  if data_generator.n % batch_size==0:\n",
    "    return data_generator.n//batch_size\n",
    "  else:\n",
    "    return data_generator.n//batch_size + 1"
   ]
  },
  {
   "cell_type": "code",
   "execution_count": 42,
   "metadata": {},
   "outputs": [],
   "source": [
    "lr = 1e-3\n",
    "batch_size = 8\n",
    "num_epochs = 20\n",
    "\n",
    "train_steps = num_steps_per_epoch(train_generator, batch_size)\n",
    "valid_steps = num_steps_per_epoch(valid_generator, batch_size)"
   ]
  },
  {
   "cell_type": "code",
   "execution_count": 43,
   "metadata": {},
   "outputs": [],
   "source": [
    "optimizer = keras.optimizers.Adam(lr)\n",
    "model.compile(loss=\"categorical_crossentropy\", optimizer=optimizer, metrics=[\"accuracy\"])"
   ]
  },
  {
   "cell_type": "code",
   "execution_count": 44,
   "metadata": {},
   "outputs": [
    {
     "name": "stdout",
     "output_type": "stream",
     "text": [
      "Model: \"model_1\"\n",
      "__________________________________________________________________________________________________\n",
      " Layer (type)                   Output Shape         Param #     Connected to                     \n",
      "==================================================================================================\n",
      " input_2 (InputLayer)           [(None, 400, 400, 3  0           []                               \n",
      "                                )]                                                                \n",
      "                                                                                                  \n",
      " block1_conv1 (Conv2D)          (None, 199, 199, 32  864         ['input_2[0][0]']                \n",
      "                                )                                                                 \n",
      "                                                                                                  \n",
      " block1_conv1_bn (BatchNormaliz  (None, 199, 199, 32  128        ['block1_conv1[0][0]']           \n",
      " ation)                         )                                                                 \n",
      "                                                                                                  \n",
      " block1_conv1_act (Activation)  (None, 199, 199, 32  0           ['block1_conv1_bn[0][0]']        \n",
      "                                )                                                                 \n",
      "                                                                                                  \n",
      " block1_conv2 (Conv2D)          (None, 197, 197, 64  18432       ['block1_conv1_act[0][0]']       \n",
      "                                )                                                                 \n",
      "                                                                                                  \n",
      " block1_conv2_bn (BatchNormaliz  (None, 197, 197, 64  256        ['block1_conv2[0][0]']           \n",
      " ation)                         )                                                                 \n",
      "                                                                                                  \n",
      " block1_conv2_act (Activation)  (None, 197, 197, 64  0           ['block1_conv2_bn[0][0]']        \n",
      "                                )                                                                 \n",
      "                                                                                                  \n",
      " block2_sepconv1 (SeparableConv  (None, 197, 197, 12  8768       ['block1_conv2_act[0][0]']       \n",
      " 2D)                            8)                                                                \n",
      "                                                                                                  \n",
      " block2_sepconv1_bn (BatchNorma  (None, 197, 197, 12  512        ['block2_sepconv1[0][0]']        \n",
      " lization)                      8)                                                                \n",
      "                                                                                                  \n",
      " block2_sepconv2_act (Activatio  (None, 197, 197, 12  0          ['block2_sepconv1_bn[0][0]']     \n",
      " n)                             8)                                                                \n",
      "                                                                                                  \n",
      " block2_sepconv2 (SeparableConv  (None, 197, 197, 12  17536      ['block2_sepconv2_act[0][0]']    \n",
      " 2D)                            8)                                                                \n",
      "                                                                                                  \n",
      " block2_sepconv2_bn (BatchNorma  (None, 197, 197, 12  512        ['block2_sepconv2[0][0]']        \n",
      " lization)                      8)                                                                \n",
      "                                                                                                  \n",
      " conv2d_4 (Conv2D)              (None, 99, 99, 128)  8192        ['block1_conv2_act[0][0]']       \n",
      "                                                                                                  \n",
      " block2_pool (MaxPooling2D)     (None, 99, 99, 128)  0           ['block2_sepconv2_bn[0][0]']     \n",
      "                                                                                                  \n",
      " batch_normalization_4 (BatchNo  (None, 99, 99, 128)  512        ['conv2d_4[0][0]']               \n",
      " rmalization)                                                                                     \n",
      "                                                                                                  \n",
      " add_12 (Add)                   (None, 99, 99, 128)  0           ['block2_pool[0][0]',            \n",
      "                                                                  'batch_normalization_4[0][0]']  \n",
      "                                                                                                  \n",
      " block3_sepconv1_act (Activatio  (None, 99, 99, 128)  0          ['add_12[0][0]']                 \n",
      " n)                                                                                               \n",
      "                                                                                                  \n",
      " block3_sepconv1 (SeparableConv  (None, 99, 99, 256)  33920      ['block3_sepconv1_act[0][0]']    \n",
      " 2D)                                                                                              \n",
      "                                                                                                  \n",
      " block3_sepconv1_bn (BatchNorma  (None, 99, 99, 256)  1024       ['block3_sepconv1[0][0]']        \n",
      " lization)                                                                                        \n",
      "                                                                                                  \n",
      " block3_sepconv2_act (Activatio  (None, 99, 99, 256)  0          ['block3_sepconv1_bn[0][0]']     \n",
      " n)                                                                                               \n",
      "                                                                                                  \n",
      " block3_sepconv2 (SeparableConv  (None, 99, 99, 256)  67840      ['block3_sepconv2_act[0][0]']    \n",
      " 2D)                                                                                              \n",
      "                                                                                                  \n",
      " block3_sepconv2_bn (BatchNorma  (None, 99, 99, 256)  1024       ['block3_sepconv2[0][0]']        \n",
      " lization)                                                                                        \n",
      "                                                                                                  \n",
      " conv2d_5 (Conv2D)              (None, 50, 50, 256)  32768       ['add_12[0][0]']                 \n",
      "                                                                                                  \n",
      " block3_pool (MaxPooling2D)     (None, 50, 50, 256)  0           ['block3_sepconv2_bn[0][0]']     \n",
      "                                                                                                  \n",
      " batch_normalization_5 (BatchNo  (None, 50, 50, 256)  1024       ['conv2d_5[0][0]']               \n",
      " rmalization)                                                                                     \n",
      "                                                                                                  \n",
      " add_13 (Add)                   (None, 50, 50, 256)  0           ['block3_pool[0][0]',            \n",
      "                                                                  'batch_normalization_5[0][0]']  \n",
      "                                                                                                  \n",
      " block4_sepconv1_act (Activatio  (None, 50, 50, 256)  0          ['add_13[0][0]']                 \n",
      " n)                                                                                               \n",
      "                                                                                                  \n",
      " block4_sepconv1 (SeparableConv  (None, 50, 50, 728)  188672     ['block4_sepconv1_act[0][0]']    \n",
      " 2D)                                                                                              \n",
      "                                                                                                  \n"
     ]
    },
    {
     "name": "stdout",
     "output_type": "stream",
     "text": [
      " block4_sepconv1_bn (BatchNorma  (None, 50, 50, 728)  2912       ['block4_sepconv1[0][0]']        \n",
      " lization)                                                                                        \n",
      "                                                                                                  \n",
      " block4_sepconv2_act (Activatio  (None, 50, 50, 728)  0          ['block4_sepconv1_bn[0][0]']     \n",
      " n)                                                                                               \n",
      "                                                                                                  \n",
      " block4_sepconv2 (SeparableConv  (None, 50, 50, 728)  536536     ['block4_sepconv2_act[0][0]']    \n",
      " 2D)                                                                                              \n",
      "                                                                                                  \n",
      " block4_sepconv2_bn (BatchNorma  (None, 50, 50, 728)  2912       ['block4_sepconv2[0][0]']        \n",
      " lization)                                                                                        \n",
      "                                                                                                  \n",
      " conv2d_6 (Conv2D)              (None, 25, 25, 728)  186368      ['add_13[0][0]']                 \n",
      "                                                                                                  \n",
      " block4_pool (MaxPooling2D)     (None, 25, 25, 728)  0           ['block4_sepconv2_bn[0][0]']     \n",
      "                                                                                                  \n",
      " batch_normalization_6 (BatchNo  (None, 25, 25, 728)  2912       ['conv2d_6[0][0]']               \n",
      " rmalization)                                                                                     \n",
      "                                                                                                  \n",
      " add_14 (Add)                   (None, 25, 25, 728)  0           ['block4_pool[0][0]',            \n",
      "                                                                  'batch_normalization_6[0][0]']  \n",
      "                                                                                                  \n",
      " block5_sepconv1_act (Activatio  (None, 25, 25, 728)  0          ['add_14[0][0]']                 \n",
      " n)                                                                                               \n",
      "                                                                                                  \n",
      " block5_sepconv1 (SeparableConv  (None, 25, 25, 728)  536536     ['block5_sepconv1_act[0][0]']    \n",
      " 2D)                                                                                              \n",
      "                                                                                                  \n",
      " block5_sepconv1_bn (BatchNorma  (None, 25, 25, 728)  2912       ['block5_sepconv1[0][0]']        \n",
      " lization)                                                                                        \n",
      "                                                                                                  \n",
      " block5_sepconv2_act (Activatio  (None, 25, 25, 728)  0          ['block5_sepconv1_bn[0][0]']     \n",
      " n)                                                                                               \n",
      "                                                                                                  \n",
      " block5_sepconv2 (SeparableConv  (None, 25, 25, 728)  536536     ['block5_sepconv2_act[0][0]']    \n",
      " 2D)                                                                                              \n",
      "                                                                                                  \n",
      " block5_sepconv2_bn (BatchNorma  (None, 25, 25, 728)  2912       ['block5_sepconv2[0][0]']        \n",
      " lization)                                                                                        \n",
      "                                                                                                  \n",
      " block5_sepconv3_act (Activatio  (None, 25, 25, 728)  0          ['block5_sepconv2_bn[0][0]']     \n",
      " n)                                                                                               \n",
      "                                                                                                  \n",
      " block5_sepconv3 (SeparableConv  (None, 25, 25, 728)  536536     ['block5_sepconv3_act[0][0]']    \n",
      " 2D)                                                                                              \n",
      "                                                                                                  \n",
      " block5_sepconv3_bn (BatchNorma  (None, 25, 25, 728)  2912       ['block5_sepconv3[0][0]']        \n",
      " lization)                                                                                        \n",
      "                                                                                                  \n",
      " add_15 (Add)                   (None, 25, 25, 728)  0           ['block5_sepconv3_bn[0][0]',     \n",
      "                                                                  'add_14[0][0]']                 \n",
      "                                                                                                  \n",
      " block6_sepconv1_act (Activatio  (None, 25, 25, 728)  0          ['add_15[0][0]']                 \n",
      " n)                                                                                               \n",
      "                                                                                                  \n",
      " block6_sepconv1 (SeparableConv  (None, 25, 25, 728)  536536     ['block6_sepconv1_act[0][0]']    \n",
      " 2D)                                                                                              \n",
      "                                                                                                  \n",
      " block6_sepconv1_bn (BatchNorma  (None, 25, 25, 728)  2912       ['block6_sepconv1[0][0]']        \n",
      " lization)                                                                                        \n",
      "                                                                                                  \n",
      " block6_sepconv2_act (Activatio  (None, 25, 25, 728)  0          ['block6_sepconv1_bn[0][0]']     \n",
      " n)                                                                                               \n",
      "                                                                                                  \n",
      " block6_sepconv2 (SeparableConv  (None, 25, 25, 728)  536536     ['block6_sepconv2_act[0][0]']    \n",
      " 2D)                                                                                              \n",
      "                                                                                                  \n",
      " block6_sepconv2_bn (BatchNorma  (None, 25, 25, 728)  2912       ['block6_sepconv2[0][0]']        \n",
      " lization)                                                                                        \n",
      "                                                                                                  \n",
      " block6_sepconv3_act (Activatio  (None, 25, 25, 728)  0          ['block6_sepconv2_bn[0][0]']     \n",
      " n)                                                                                               \n",
      "                                                                                                  \n",
      " block6_sepconv3 (SeparableConv  (None, 25, 25, 728)  536536     ['block6_sepconv3_act[0][0]']    \n",
      " 2D)                                                                                              \n",
      "                                                                                                  \n",
      " block6_sepconv3_bn (BatchNorma  (None, 25, 25, 728)  2912       ['block6_sepconv3[0][0]']        \n",
      " lization)                                                                                        \n",
      "                                                                                                  \n",
      " add_16 (Add)                   (None, 25, 25, 728)  0           ['block6_sepconv3_bn[0][0]',     \n",
      "                                                                  'add_15[0][0]']                 \n",
      "                                                                                                  \n",
      " block7_sepconv1_act (Activatio  (None, 25, 25, 728)  0          ['add_16[0][0]']                 \n"
     ]
    },
    {
     "name": "stdout",
     "output_type": "stream",
     "text": [
      " n)                                                                                               \n",
      "                                                                                                  \n",
      " block7_sepconv1 (SeparableConv  (None, 25, 25, 728)  536536     ['block7_sepconv1_act[0][0]']    \n",
      " 2D)                                                                                              \n",
      "                                                                                                  \n",
      " block7_sepconv1_bn (BatchNorma  (None, 25, 25, 728)  2912       ['block7_sepconv1[0][0]']        \n",
      " lization)                                                                                        \n",
      "                                                                                                  \n",
      " block7_sepconv2_act (Activatio  (None, 25, 25, 728)  0          ['block7_sepconv1_bn[0][0]']     \n",
      " n)                                                                                               \n",
      "                                                                                                  \n",
      " block7_sepconv2 (SeparableConv  (None, 25, 25, 728)  536536     ['block7_sepconv2_act[0][0]']    \n",
      " 2D)                                                                                              \n",
      "                                                                                                  \n",
      " block7_sepconv2_bn (BatchNorma  (None, 25, 25, 728)  2912       ['block7_sepconv2[0][0]']        \n",
      " lization)                                                                                        \n",
      "                                                                                                  \n",
      " block7_sepconv3_act (Activatio  (None, 25, 25, 728)  0          ['block7_sepconv2_bn[0][0]']     \n",
      " n)                                                                                               \n",
      "                                                                                                  \n",
      " block7_sepconv3 (SeparableConv  (None, 25, 25, 728)  536536     ['block7_sepconv3_act[0][0]']    \n",
      " 2D)                                                                                              \n",
      "                                                                                                  \n",
      " block7_sepconv3_bn (BatchNorma  (None, 25, 25, 728)  2912       ['block7_sepconv3[0][0]']        \n",
      " lization)                                                                                        \n",
      "                                                                                                  \n",
      " add_17 (Add)                   (None, 25, 25, 728)  0           ['block7_sepconv3_bn[0][0]',     \n",
      "                                                                  'add_16[0][0]']                 \n",
      "                                                                                                  \n",
      " block8_sepconv1_act (Activatio  (None, 25, 25, 728)  0          ['add_17[0][0]']                 \n",
      " n)                                                                                               \n",
      "                                                                                                  \n",
      " block8_sepconv1 (SeparableConv  (None, 25, 25, 728)  536536     ['block8_sepconv1_act[0][0]']    \n",
      " 2D)                                                                                              \n",
      "                                                                                                  \n",
      " block8_sepconv1_bn (BatchNorma  (None, 25, 25, 728)  2912       ['block8_sepconv1[0][0]']        \n",
      " lization)                                                                                        \n",
      "                                                                                                  \n",
      " block8_sepconv2_act (Activatio  (None, 25, 25, 728)  0          ['block8_sepconv1_bn[0][0]']     \n",
      " n)                                                                                               \n",
      "                                                                                                  \n",
      " block8_sepconv2 (SeparableConv  (None, 25, 25, 728)  536536     ['block8_sepconv2_act[0][0]']    \n",
      " 2D)                                                                                              \n",
      "                                                                                                  \n",
      " block8_sepconv2_bn (BatchNorma  (None, 25, 25, 728)  2912       ['block8_sepconv2[0][0]']        \n",
      " lization)                                                                                        \n",
      "                                                                                                  \n",
      " block8_sepconv3_act (Activatio  (None, 25, 25, 728)  0          ['block8_sepconv2_bn[0][0]']     \n",
      " n)                                                                                               \n",
      "                                                                                                  \n",
      " block8_sepconv3 (SeparableConv  (None, 25, 25, 728)  536536     ['block8_sepconv3_act[0][0]']    \n",
      " 2D)                                                                                              \n",
      "                                                                                                  \n",
      " block8_sepconv3_bn (BatchNorma  (None, 25, 25, 728)  2912       ['block8_sepconv3[0][0]']        \n",
      " lization)                                                                                        \n",
      "                                                                                                  \n",
      " add_18 (Add)                   (None, 25, 25, 728)  0           ['block8_sepconv3_bn[0][0]',     \n",
      "                                                                  'add_17[0][0]']                 \n",
      "                                                                                                  \n",
      " block9_sepconv1_act (Activatio  (None, 25, 25, 728)  0          ['add_18[0][0]']                 \n",
      " n)                                                                                               \n",
      "                                                                                                  \n",
      " block9_sepconv1 (SeparableConv  (None, 25, 25, 728)  536536     ['block9_sepconv1_act[0][0]']    \n",
      " 2D)                                                                                              \n",
      "                                                                                                  \n",
      " block9_sepconv1_bn (BatchNorma  (None, 25, 25, 728)  2912       ['block9_sepconv1[0][0]']        \n",
      " lization)                                                                                        \n",
      "                                                                                                  \n",
      " block9_sepconv2_act (Activatio  (None, 25, 25, 728)  0          ['block9_sepconv1_bn[0][0]']     \n",
      " n)                                                                                               \n",
      "                                                                                                  \n",
      " block9_sepconv2 (SeparableConv  (None, 25, 25, 728)  536536     ['block9_sepconv2_act[0][0]']    \n",
      " 2D)                                                                                              \n",
      "                                                                                                  \n",
      " block9_sepconv2_bn (BatchNorma  (None, 25, 25, 728)  2912       ['block9_sepconv2[0][0]']        \n",
      " lization)                                                                                        \n",
      "                                                                                                  \n",
      " block9_sepconv3_act (Activatio  (None, 25, 25, 728)  0          ['block9_sepconv2_bn[0][0]']     \n",
      " n)                                                                                               \n",
      "                                                                                                  \n",
      " block9_sepconv3 (SeparableConv  (None, 25, 25, 728)  536536     ['block9_sepconv3_act[0][0]']    \n",
      " 2D)                                                                                              \n",
      "                                                                                                  \n"
     ]
    },
    {
     "name": "stdout",
     "output_type": "stream",
     "text": [
      " block9_sepconv3_bn (BatchNorma  (None, 25, 25, 728)  2912       ['block9_sepconv3[0][0]']        \n",
      " lization)                                                                                        \n",
      "                                                                                                  \n",
      " add_19 (Add)                   (None, 25, 25, 728)  0           ['block9_sepconv3_bn[0][0]',     \n",
      "                                                                  'add_18[0][0]']                 \n",
      "                                                                                                  \n",
      " block10_sepconv1_act (Activati  (None, 25, 25, 728)  0          ['add_19[0][0]']                 \n",
      " on)                                                                                              \n",
      "                                                                                                  \n",
      " block10_sepconv1 (SeparableCon  (None, 25, 25, 728)  536536     ['block10_sepconv1_act[0][0]']   \n",
      " v2D)                                                                                             \n",
      "                                                                                                  \n",
      " block10_sepconv1_bn (BatchNorm  (None, 25, 25, 728)  2912       ['block10_sepconv1[0][0]']       \n",
      " alization)                                                                                       \n",
      "                                                                                                  \n",
      " block10_sepconv2_act (Activati  (None, 25, 25, 728)  0          ['block10_sepconv1_bn[0][0]']    \n",
      " on)                                                                                              \n",
      "                                                                                                  \n",
      " block10_sepconv2 (SeparableCon  (None, 25, 25, 728)  536536     ['block10_sepconv2_act[0][0]']   \n",
      " v2D)                                                                                             \n",
      "                                                                                                  \n",
      " block10_sepconv2_bn (BatchNorm  (None, 25, 25, 728)  2912       ['block10_sepconv2[0][0]']       \n",
      " alization)                                                                                       \n",
      "                                                                                                  \n",
      " block10_sepconv3_act (Activati  (None, 25, 25, 728)  0          ['block10_sepconv2_bn[0][0]']    \n",
      " on)                                                                                              \n",
      "                                                                                                  \n",
      " block10_sepconv3 (SeparableCon  (None, 25, 25, 728)  536536     ['block10_sepconv3_act[0][0]']   \n",
      " v2D)                                                                                             \n",
      "                                                                                                  \n",
      " block10_sepconv3_bn (BatchNorm  (None, 25, 25, 728)  2912       ['block10_sepconv3[0][0]']       \n",
      " alization)                                                                                       \n",
      "                                                                                                  \n",
      " add_20 (Add)                   (None, 25, 25, 728)  0           ['block10_sepconv3_bn[0][0]',    \n",
      "                                                                  'add_19[0][0]']                 \n",
      "                                                                                                  \n",
      " block11_sepconv1_act (Activati  (None, 25, 25, 728)  0          ['add_20[0][0]']                 \n",
      " on)                                                                                              \n",
      "                                                                                                  \n",
      " block11_sepconv1 (SeparableCon  (None, 25, 25, 728)  536536     ['block11_sepconv1_act[0][0]']   \n",
      " v2D)                                                                                             \n",
      "                                                                                                  \n",
      " block11_sepconv1_bn (BatchNorm  (None, 25, 25, 728)  2912       ['block11_sepconv1[0][0]']       \n",
      " alization)                                                                                       \n",
      "                                                                                                  \n",
      " block11_sepconv2_act (Activati  (None, 25, 25, 728)  0          ['block11_sepconv1_bn[0][0]']    \n",
      " on)                                                                                              \n",
      "                                                                                                  \n",
      " block11_sepconv2 (SeparableCon  (None, 25, 25, 728)  536536     ['block11_sepconv2_act[0][0]']   \n",
      " v2D)                                                                                             \n",
      "                                                                                                  \n",
      " block11_sepconv2_bn (BatchNorm  (None, 25, 25, 728)  2912       ['block11_sepconv2[0][0]']       \n",
      " alization)                                                                                       \n",
      "                                                                                                  \n",
      " block11_sepconv3_act (Activati  (None, 25, 25, 728)  0          ['block11_sepconv2_bn[0][0]']    \n",
      " on)                                                                                              \n",
      "                                                                                                  \n",
      " block11_sepconv3 (SeparableCon  (None, 25, 25, 728)  536536     ['block11_sepconv3_act[0][0]']   \n",
      " v2D)                                                                                             \n",
      "                                                                                                  \n",
      " block11_sepconv3_bn (BatchNorm  (None, 25, 25, 728)  2912       ['block11_sepconv3[0][0]']       \n",
      " alization)                                                                                       \n",
      "                                                                                                  \n",
      " add_21 (Add)                   (None, 25, 25, 728)  0           ['block11_sepconv3_bn[0][0]',    \n",
      "                                                                  'add_20[0][0]']                 \n",
      "                                                                                                  \n",
      " block12_sepconv1_act (Activati  (None, 25, 25, 728)  0          ['add_21[0][0]']                 \n",
      " on)                                                                                              \n",
      "                                                                                                  \n",
      " block12_sepconv1 (SeparableCon  (None, 25, 25, 728)  536536     ['block12_sepconv1_act[0][0]']   \n",
      " v2D)                                                                                             \n",
      "                                                                                                  \n",
      " block12_sepconv1_bn (BatchNorm  (None, 25, 25, 728)  2912       ['block12_sepconv1[0][0]']       \n",
      " alization)                                                                                       \n",
      "                                                                                                  \n",
      " block12_sepconv2_act (Activati  (None, 25, 25, 728)  0          ['block12_sepconv1_bn[0][0]']    \n",
      " on)                                                                                              \n",
      "                                                                                                  \n",
      " block12_sepconv2 (SeparableCon  (None, 25, 25, 728)  536536     ['block12_sepconv2_act[0][0]']   \n",
      " v2D)                                                                                             \n",
      "                                                                                                  \n",
      " block12_sepconv2_bn (BatchNorm  (None, 25, 25, 728)  2912       ['block12_sepconv2[0][0]']       \n",
      " alization)                                                                                       \n"
     ]
    },
    {
     "name": "stdout",
     "output_type": "stream",
     "text": [
      "                                                                                                  \n",
      " block12_sepconv3_act (Activati  (None, 25, 25, 728)  0          ['block12_sepconv2_bn[0][0]']    \n",
      " on)                                                                                              \n",
      "                                                                                                  \n",
      " block12_sepconv3 (SeparableCon  (None, 25, 25, 728)  536536     ['block12_sepconv3_act[0][0]']   \n",
      " v2D)                                                                                             \n",
      "                                                                                                  \n",
      " block12_sepconv3_bn (BatchNorm  (None, 25, 25, 728)  2912       ['block12_sepconv3[0][0]']       \n",
      " alization)                                                                                       \n",
      "                                                                                                  \n",
      " add_22 (Add)                   (None, 25, 25, 728)  0           ['block12_sepconv3_bn[0][0]',    \n",
      "                                                                  'add_21[0][0]']                 \n",
      "                                                                                                  \n",
      " block13_sepconv1_act (Activati  (None, 25, 25, 728)  0          ['add_22[0][0]']                 \n",
      " on)                                                                                              \n",
      "                                                                                                  \n",
      " block13_sepconv1 (SeparableCon  (None, 25, 25, 728)  536536     ['block13_sepconv1_act[0][0]']   \n",
      " v2D)                                                                                             \n",
      "                                                                                                  \n",
      " block13_sepconv1_bn (BatchNorm  (None, 25, 25, 728)  2912       ['block13_sepconv1[0][0]']       \n",
      " alization)                                                                                       \n",
      "                                                                                                  \n",
      " block13_sepconv2_act (Activati  (None, 25, 25, 728)  0          ['block13_sepconv1_bn[0][0]']    \n",
      " on)                                                                                              \n",
      "                                                                                                  \n",
      " block13_sepconv2 (SeparableCon  (None, 25, 25, 1024  752024     ['block13_sepconv2_act[0][0]']   \n",
      " v2D)                           )                                                                 \n",
      "                                                                                                  \n",
      " block13_sepconv2_bn (BatchNorm  (None, 25, 25, 1024  4096       ['block13_sepconv2[0][0]']       \n",
      " alization)                     )                                                                 \n",
      "                                                                                                  \n",
      " conv2d_7 (Conv2D)              (None, 13, 13, 1024  745472      ['add_22[0][0]']                 \n",
      "                                )                                                                 \n",
      "                                                                                                  \n",
      " block13_pool (MaxPooling2D)    (None, 13, 13, 1024  0           ['block13_sepconv2_bn[0][0]']    \n",
      "                                )                                                                 \n",
      "                                                                                                  \n",
      " batch_normalization_7 (BatchNo  (None, 13, 13, 1024  4096       ['conv2d_7[0][0]']               \n",
      " rmalization)                   )                                                                 \n",
      "                                                                                                  \n",
      " add_23 (Add)                   (None, 13, 13, 1024  0           ['block13_pool[0][0]',           \n",
      "                                )                                 'batch_normalization_7[0][0]']  \n",
      "                                                                                                  \n",
      " block14_sepconv1 (SeparableCon  (None, 13, 13, 1536  1582080    ['add_23[0][0]']                 \n",
      " v2D)                           )                                                                 \n",
      "                                                                                                  \n",
      " block14_sepconv1_bn (BatchNorm  (None, 13, 13, 1536  6144       ['block14_sepconv1[0][0]']       \n",
      " alization)                     )                                                                 \n",
      "                                                                                                  \n",
      " block14_sepconv1_act (Activati  (None, 13, 13, 1536  0          ['block14_sepconv1_bn[0][0]']    \n",
      " on)                            )                                                                 \n",
      "                                                                                                  \n",
      " block14_sepconv2 (SeparableCon  (None, 13, 13, 2048  3159552    ['block14_sepconv1_act[0][0]']   \n",
      " v2D)                           )                                                                 \n",
      "                                                                                                  \n",
      " block14_sepconv2_bn (BatchNorm  (None, 13, 13, 2048  8192       ['block14_sepconv2[0][0]']       \n",
      " alization)                     )                                                                 \n",
      "                                                                                                  \n",
      " block14_sepconv2_act (Activati  (None, 13, 13, 2048  0          ['block14_sepconv2_bn[0][0]']    \n",
      " on)                            )                                                                 \n",
      "                                                                                                  \n",
      " average_pooling2d_1 (AveragePo  (None, 6, 6, 2048)  0           ['block14_sepconv2_act[0][0]']   \n",
      " oling2D)                                                                                         \n",
      "                                                                                                  \n",
      " flatten_1 (Flatten)            (None, 73728)        0           ['average_pooling2d_1[0][0]']    \n",
      "                                                                                                  \n",
      " dense_1 (Dense)                (None, 2)            147458      ['flatten_1[0][0]']              \n",
      "                                                                                                  \n",
      "==================================================================================================\n",
      "Total params: 21,008,938\n",
      "Trainable params: 20,954,410\n",
      "Non-trainable params: 54,528\n",
      "__________________________________________________________________________________________________\n"
     ]
    }
   ],
   "source": [
    "model.summary()"
   ]
  },
  {
   "cell_type": "code",
   "execution_count": 45,
   "metadata": {},
   "outputs": [],
   "source": [
    "pre_model.trainable = False"
   ]
  },
  {
   "cell_type": "code",
   "execution_count": 46,
   "metadata": {
    "scrolled": true
   },
   "outputs": [
    {
     "name": "stdout",
     "output_type": "stream",
     "text": [
      "Epoch 1/20\n",
      "639/639 [==============================] - 353s 548ms/step - loss: 0.7129 - accuracy: 0.5687 - val_loss: 0.7395 - val_accuracy: 0.5439 - lr: 0.0010\n",
      "Epoch 2/20\n",
      "639/639 [==============================] - 323s 505ms/step - loss: 0.6640 - accuracy: 0.6094 - val_loss: 0.6624 - val_accuracy: 0.5690 - lr: 0.0010\n",
      "Epoch 3/20\n",
      "639/639 [==============================] - 294s 460ms/step - loss: 0.6160 - accuracy: 0.6729 - val_loss: 0.8289 - val_accuracy: 0.6285 - lr: 0.0010\n",
      "Epoch 4/20\n",
      "639/639 [==============================] - 296s 462ms/step - loss: 0.5756 - accuracy: 0.7044 - val_loss: 2.7910 - val_accuracy: 0.6395 - lr: 0.0010\n",
      "Epoch 5/20\n",
      "639/639 [==============================] - 294s 459ms/step - loss: 0.5670 - accuracy: 0.7152 - val_loss: 0.8605 - val_accuracy: 0.7085 - lr: 0.0010\n",
      "Epoch 6/20\n",
      "639/639 [==============================] - 317s 496ms/step - loss: 0.5539 - accuracy: 0.7234 - val_loss: 0.6278 - val_accuracy: 0.6975 - lr: 0.0010\n",
      "Epoch 7/20\n",
      "639/639 [==============================] - 337s 527ms/step - loss: 0.5434 - accuracy: 0.7230 - val_loss: 0.9373 - val_accuracy: 0.6301 - lr: 0.0010\n",
      "Epoch 8/20\n",
      "639/639 [==============================] - 308s 481ms/step - loss: 0.5327 - accuracy: 0.7316 - val_loss: 0.5200 - val_accuracy: 0.7429 - lr: 0.0010\n",
      "Epoch 9/20\n",
      "639/639 [==============================] - 288s 450ms/step - loss: 0.5224 - accuracy: 0.7357 - val_loss: 0.5117 - val_accuracy: 0.7382 - lr: 0.0010\n",
      "Epoch 10/20\n",
      "639/639 [==============================] - 287s 448ms/step - loss: 0.5262 - accuracy: 0.7383 - val_loss: 1.5472 - val_accuracy: 0.6803 - lr: 0.0010\n",
      "Epoch 11/20\n",
      "639/639 [==============================] - 288s 451ms/step - loss: 0.5148 - accuracy: 0.7408 - val_loss: 0.6672 - val_accuracy: 0.6803 - lr: 0.0010\n",
      "Epoch 12/20\n",
      "639/639 [==============================] - 292s 457ms/step - loss: 0.4804 - accuracy: 0.7672 - val_loss: 0.4800 - val_accuracy: 0.7680 - lr: 5.0000e-04\n",
      "Epoch 13/20\n",
      "639/639 [==============================] - 283s 442ms/step - loss: 0.4654 - accuracy: 0.7756 - val_loss: 0.5808 - val_accuracy: 0.7241 - lr: 5.0000e-04\n",
      "Epoch 14/20\n",
      "639/639 [==============================] - 284s 444ms/step - loss: 0.4531 - accuracy: 0.7837 - val_loss: 0.4813 - val_accuracy: 0.7633 - lr: 5.0000e-04\n",
      "Epoch 15/20\n",
      "639/639 [==============================] - 286s 447ms/step - loss: 0.4565 - accuracy: 0.7811 - val_loss: 0.5604 - val_accuracy: 0.7320 - lr: 5.0000e-04\n",
      "Epoch 16/20\n",
      "639/639 [==============================] - 294s 460ms/step - loss: 0.4383 - accuracy: 0.7911 - val_loss: 0.4646 - val_accuracy: 0.7696 - lr: 5.0000e-04\n",
      "Epoch 17/20\n",
      "639/639 [==============================] - 293s 457ms/step - loss: 0.4224 - accuracy: 0.8087 - val_loss: 0.4254 - val_accuracy: 0.7900 - lr: 3.0000e-04\n",
      "Epoch 18/20\n",
      "639/639 [==============================] - 287s 449ms/step - loss: 0.4147 - accuracy: 0.8048 - val_loss: 0.4809 - val_accuracy: 0.7680 - lr: 3.0000e-04\n",
      "Epoch 19/20\n",
      "639/639 [==============================] - 294s 460ms/step - loss: 0.4090 - accuracy: 0.8093 - val_loss: 0.4179 - val_accuracy: 0.7947 - lr: 3.0000e-04\n",
      "Epoch 20/20\n",
      "639/639 [==============================] - 343s 536ms/step - loss: 0.4139 - accuracy: 0.8105 - val_loss: 0.4525 - val_accuracy: 0.7774 - lr: 3.0000e-04\n"
     ]
    }
   ],
   "source": [
    "history = model.fit(train_generator,\n",
    "                  steps_per_epoch=train_steps,\n",
    "                  epochs=num_epochs,\n",
    "                  validation_data=valid_generator,\n",
    "                  validation_steps=valid_steps,\n",
    "                  callbacks=callbacks_list)"
   ]
  },
  {
   "cell_type": "code",
   "execution_count": 47,
   "metadata": {},
   "outputs": [],
   "source": [
    "pre_model.trainable = True\n",
    "for each_layer in pre_model.layers[:-5]: #倒數五層\n",
    "    each_layer.trainable = False\n",
    "\n",
    "batch_size = 8\n",
    "num_epochs = 30\n",
    "\n",
    "train_steps = num_steps_per_epoch(train_generator, batch_size)\n",
    "valid_steps = num_steps_per_epoch(valid_generator, batch_size)"
   ]
  },
  {
   "cell_type": "code",
   "execution_count": 48,
   "metadata": {},
   "outputs": [
    {
     "name": "stdout",
     "output_type": "stream",
     "text": [
      "Epoch 21/30\n",
      "639/639 [==============================] - 307s 479ms/step - loss: 0.3926 - accuracy: 0.8177 - val_loss: 0.4299 - val_accuracy: 0.8025 - lr: 3.0000e-04\n",
      "Epoch 22/30\n",
      "639/639 [==============================] - 316s 494ms/step - loss: 0.3692 - accuracy: 0.8277 - val_loss: 0.4399 - val_accuracy: 0.8041 - lr: 1.0000e-04\n",
      "Epoch 23/30\n",
      "639/639 [==============================] - 298s 466ms/step - loss: 0.3552 - accuracy: 0.8375 - val_loss: 0.4400 - val_accuracy: 0.8072 - lr: 1.0000e-04\n",
      "Epoch 24/30\n",
      "639/639 [==============================] - 322s 504ms/step - loss: 0.3642 - accuracy: 0.8310 - val_loss: 0.4132 - val_accuracy: 0.8213 - lr: 1.0000e-04\n",
      "Epoch 25/30\n",
      "639/639 [==============================] - 324s 506ms/step - loss: 0.3550 - accuracy: 0.8412 - val_loss: 0.4213 - val_accuracy: 0.8135 - lr: 1.0000e-04\n",
      "Epoch 26/30\n",
      "639/639 [==============================] - 288s 450ms/step - loss: 0.3499 - accuracy: 0.8434 - val_loss: 0.4415 - val_accuracy: 0.7962 - lr: 1.0000e-04\n",
      "Epoch 27/30\n",
      "639/639 [==============================] - 286s 447ms/step - loss: 0.3384 - accuracy: 0.8477 - val_loss: 0.4117 - val_accuracy: 0.8056 - lr: 1.0000e-04\n",
      "Epoch 28/30\n",
      "639/639 [==============================] - 289s 452ms/step - loss: 0.3420 - accuracy: 0.8426 - val_loss: 0.4278 - val_accuracy: 0.7962 - lr: 1.0000e-04\n",
      "Epoch 29/30\n",
      "639/639 [==============================] - 288s 450ms/step - loss: 0.3341 - accuracy: 0.8534 - val_loss: 0.4050 - val_accuracy: 0.8197 - lr: 1.0000e-04\n",
      "Epoch 30/30\n",
      "639/639 [==============================] - 291s 454ms/step - loss: 0.3299 - accuracy: 0.8471 - val_loss: 0.4561 - val_accuracy: 0.8025 - lr: 1.0000e-04\n"
     ]
    }
   ],
   "source": [
    "history = model.fit(train_generator,\n",
    "                  steps_per_epoch=train_steps,\n",
    "                  epochs=num_epochs,\n",
    "                  validation_data=valid_generator,\n",
    "                  validation_steps=valid_steps,\n",
    "                  callbacks=callbacks_list,\n",
    "                  initial_epoch=20)"
   ]
  },
  {
   "cell_type": "code",
   "execution_count": 49,
   "metadata": {},
   "outputs": [],
   "source": [
    "from sklearn.metrics import accuracy_score, confusion_matrix"
   ]
  },
  {
   "cell_type": "code",
   "execution_count": 50,
   "metadata": {},
   "outputs": [],
   "source": [
    "from keras.models import model_from_json\n",
    "import keras"
   ]
  },
  {
   "cell_type": "code",
   "execution_count": null,
   "metadata": {},
   "outputs": [],
   "source": [
    "model.save('F:\\\\AICUP\\\\trainset_400\\\\model-logs\\\\broccoli_cauliflower(0.791).h5')"
   ]
  },
  {
   "cell_type": "code",
   "execution_count": null,
   "metadata": {},
   "outputs": [],
   "source": [
    "# model=keras.models.load_model('F:\\\\AICUP\\\\trainset_400\\\\model-logs\\\\broccoli_cauliflower.h5')\n",
    "# model.summary()"
   ]
  },
  {
   "cell_type": "code",
   "execution_count": 51,
   "metadata": {},
   "outputs": [],
   "source": [
    "batch_size = 8\n",
    "test_steps = num_steps_per_epoch(test_generator, batch_size)"
   ]
  },
  {
   "cell_type": "code",
   "execution_count": 52,
   "metadata": {},
   "outputs": [],
   "source": [
    "y_test = test_list_new[\"label\"].values.astype(np.int_)#need to be changed\n",
    "#y_test=np.transpose(test_generator.labels)"
   ]
  },
  {
   "cell_type": "code",
   "execution_count": 53,
   "metadata": {},
   "outputs": [
    {
     "data": {
      "text/plain": [
       "array([0, 0, 0, 0, 0, 0, 0, 0, 0, 0, 0, 0, 0, 0, 0, 0, 0, 0, 0, 0, 0, 0,\n",
       "       0, 0, 0, 0, 0, 0, 0, 0, 0, 0, 0, 0, 0, 0, 0, 0, 0, 0, 0, 0, 0, 0,\n",
       "       0, 0, 0, 0, 0, 0, 0, 0, 0, 0, 0, 0, 0, 0, 0, 0, 0, 0, 0, 0, 0, 0,\n",
       "       0, 0, 0, 0, 0, 0, 0, 0, 0, 0, 0, 0, 0, 0, 0, 0, 0, 0, 0, 0, 0, 0,\n",
       "       0, 0, 0, 0, 0, 0, 0, 0, 0, 0, 0, 0, 0, 0, 0, 0, 0, 0, 0, 0, 0, 0,\n",
       "       0, 0, 0, 0, 0, 0, 0, 0, 0, 0, 0, 0, 0, 0, 0, 0, 0, 0, 0, 0, 0, 0,\n",
       "       0, 0, 0, 0, 0, 0, 0, 0, 0, 0, 0, 0, 0, 0, 0, 0, 0, 0, 0, 0, 0, 0,\n",
       "       0, 0, 0, 0, 0, 0, 0, 0, 0, 0, 0, 0, 0, 0, 0, 0, 0, 0, 0, 0, 0, 0,\n",
       "       0, 0, 0, 0, 0, 0, 0, 0, 0, 0, 0, 0, 0, 0, 0, 0, 0, 0, 0, 0, 0, 0,\n",
       "       0, 0, 0, 0, 0, 0, 0, 0, 0, 0, 0, 0, 0, 0, 0, 0, 0, 0, 0, 0, 0, 0,\n",
       "       0, 0, 0, 0, 0, 0, 0, 0, 0, 0, 0, 0, 0, 0, 0, 0, 0, 0, 0, 0, 0, 0,\n",
       "       0, 0, 0, 0, 0, 0, 0, 0, 0, 0, 0, 0, 0, 0, 0, 0, 0, 0, 0, 0, 0, 0,\n",
       "       0, 0, 0, 0, 0, 0, 0, 0, 0, 0, 0, 0, 0, 0, 0, 0, 0, 0, 0, 0, 0, 0,\n",
       "       0, 0, 0, 0, 0, 0, 0, 0, 0, 0, 0, 0, 0, 0, 0, 0, 0, 0, 0, 0, 0, 0,\n",
       "       0, 0, 0, 0, 0, 0, 0, 0, 0, 0, 0, 0, 1, 1, 1, 1, 1, 1, 1, 1, 1, 1,\n",
       "       1, 1, 1, 1, 1, 1, 1, 1, 1, 1, 1, 1, 1, 1, 1, 1, 1, 1, 1, 1, 1, 1,\n",
       "       1, 1, 1, 1, 1, 1, 1, 1, 1, 1, 1, 1, 1, 1, 1, 1, 1, 1, 1, 1, 1, 1,\n",
       "       1, 1, 1, 1, 1, 1, 1, 1, 1, 1, 1, 1, 1, 1, 1, 1, 1, 1, 1, 1, 1, 1,\n",
       "       1, 1, 1, 1, 1, 1, 1, 1, 1, 1, 1, 1, 1, 1, 1, 1, 1, 1, 1, 1, 1, 1,\n",
       "       1, 1, 1, 1, 1, 1, 1, 1, 1, 1, 1, 1, 1, 1, 1, 1, 1, 1, 1, 1, 1, 1,\n",
       "       1, 1, 1, 1, 1, 1, 1, 1, 1, 1, 1, 1, 1, 1, 1, 1, 1, 1, 1, 1, 1, 1,\n",
       "       1, 1, 1, 1, 1, 1, 1, 1, 1, 1, 1, 1, 1, 1, 1, 1, 1, 1, 1, 1, 1, 1,\n",
       "       1, 1, 1, 1, 1, 1, 1, 1, 1, 1, 1, 1, 1, 1, 1, 1, 1, 1, 1, 1, 1, 1,\n",
       "       1, 1, 1, 1, 1, 1, 1, 1, 1, 1, 1, 1, 1, 1, 1, 1, 1, 1, 1, 1, 1, 1,\n",
       "       1, 1, 1, 1, 1, 1, 1, 1, 1, 1, 1, 1, 1, 1, 1, 1, 1, 1, 1, 1, 1, 1,\n",
       "       1, 1, 1, 1, 1, 1, 1, 1, 1, 1, 1, 1, 1, 1, 1, 1, 1, 1, 1, 1, 1, 1,\n",
       "       1, 1, 1, 1, 1, 1, 1, 1, 1, 1, 1, 1, 1, 1, 1, 1, 1, 1, 1, 1, 1, 1,\n",
       "       1, 1, 1, 1, 1, 1, 1, 1, 1, 1, 1, 1, 1, 1, 1, 1, 1, 1, 1, 1, 1, 1,\n",
       "       1, 1, 1, 1, 1, 1, 1, 1, 1, 1, 1, 1, 1, 1, 1, 1, 1, 1, 1, 1, 1, 1,\n",
       "       1])"
      ]
     },
     "execution_count": 53,
     "metadata": {},
     "output_type": "execute_result"
    }
   ],
   "source": [
    "y_test"
   ]
  },
  {
   "cell_type": "code",
   "execution_count": 54,
   "metadata": {},
   "outputs": [
    {
     "name": "stdout",
     "output_type": "stream",
     "text": [
      "80/80 [==============================] - 18s 219ms/step\n"
     ]
    }
   ],
   "source": [
    "y_test_predprob = model.predict(test_generator,verbose=1)\n",
    "y_test_pred = y_test_predprob.argmax(-1)"
   ]
  },
  {
   "cell_type": "code",
   "execution_count": 55,
   "metadata": {},
   "outputs": [
    {
     "data": {
      "text/plain": [
       "array([0, 0, 1, 0, 0, 0, 0, 1, 0, 0, 0, 0, 0, 0, 0, 1, 0, 1, 0, 0, 0, 0,\n",
       "       1, 0, 0, 1, 0, 0, 0, 0, 0, 0, 0, 0, 0, 1, 1, 0, 1, 0, 0, 1, 0, 0,\n",
       "       0, 0, 0, 0, 0, 0, 0, 1, 1, 0, 0, 1, 0, 1, 0, 0, 0, 0, 0, 0, 0, 0,\n",
       "       1, 1, 0, 0, 0, 0, 1, 0, 0, 0, 0, 0, 0, 0, 0, 1, 0, 0, 1, 0, 0, 0,\n",
       "       0, 1, 0, 0, 0, 1, 0, 0, 0, 0, 1, 0, 1, 0, 0, 0, 0, 0, 0, 0, 0, 0,\n",
       "       0, 0, 1, 1, 1, 0, 0, 1, 0, 0, 1, 1, 0, 1, 0, 0, 0, 0, 0, 0, 0, 1,\n",
       "       0, 1, 0, 0, 0, 1, 0, 1, 0, 0, 0, 0, 0, 0, 0, 1, 0, 0, 1, 0, 0, 1,\n",
       "       1, 1, 0, 0, 1, 0, 1, 0, 0, 0, 0, 0, 0, 0, 0, 0, 0, 0, 0, 0, 0, 1,\n",
       "       1, 1, 0, 0, 0, 0, 1, 0, 0, 1, 0, 0, 0, 1, 0, 0, 0, 0, 1, 0, 0, 0,\n",
       "       0, 0, 0, 1, 0, 1, 1, 1, 0, 1, 0, 0, 1, 0, 0, 0, 1, 0, 0, 0, 1, 0,\n",
       "       0, 0, 0, 1, 1, 0, 1, 0, 1, 0, 0, 1, 0, 1, 0, 0, 0, 0, 0, 0, 1, 0,\n",
       "       1, 0, 0, 0, 0, 0, 1, 0, 0, 1, 0, 0, 0, 0, 1, 0, 0, 0, 0, 0, 1, 1,\n",
       "       0, 0, 0, 0, 0, 0, 0, 0, 1, 0, 0, 0, 0, 1, 0, 0, 0, 1, 1, 0, 0, 0,\n",
       "       0, 1, 1, 0, 0, 0, 1, 0, 1, 0, 0, 0, 0, 0, 1, 0, 1, 0, 1, 1, 0, 0,\n",
       "       0, 1, 0, 0, 0, 0, 0, 0, 0, 1, 0, 0, 1, 1, 1, 1, 1, 1, 0, 1, 1, 1,\n",
       "       1, 1, 1, 1, 1, 1, 1, 1, 1, 1, 1, 1, 1, 1, 1, 0, 1, 1, 1, 1, 1, 0,\n",
       "       1, 1, 1, 1, 1, 1, 1, 1, 1, 0, 0, 1, 1, 0, 1, 1, 1, 1, 1, 1, 1, 1,\n",
       "       1, 1, 1, 1, 1, 1, 1, 1, 1, 1, 0, 1, 1, 1, 1, 0, 0, 1, 0, 1, 1, 1,\n",
       "       1, 1, 1, 1, 1, 1, 1, 1, 1, 1, 1, 0, 1, 1, 1, 1, 1, 1, 0, 1, 1, 1,\n",
       "       0, 1, 1, 0, 1, 1, 1, 1, 1, 1, 1, 0, 1, 1, 1, 1, 1, 1, 1, 1, 1, 1,\n",
       "       1, 1, 1, 1, 1, 1, 0, 1, 0, 1, 1, 1, 1, 1, 1, 1, 1, 1, 1, 1, 1, 0,\n",
       "       1, 1, 1, 1, 1, 1, 1, 1, 1, 1, 0, 0, 1, 1, 1, 1, 1, 1, 1, 0, 1, 1,\n",
       "       1, 1, 1, 1, 1, 1, 1, 1, 0, 1, 1, 0, 1, 1, 1, 1, 1, 1, 1, 0, 1, 1,\n",
       "       1, 1, 0, 0, 1, 1, 1, 1, 1, 1, 1, 0, 1, 1, 0, 1, 1, 1, 1, 1, 0, 1,\n",
       "       1, 1, 1, 1, 1, 1, 1, 1, 1, 1, 1, 1, 1, 1, 1, 1, 1, 0, 1, 1, 1, 1,\n",
       "       1, 1, 1, 1, 1, 1, 1, 0, 1, 1, 1, 1, 1, 1, 1, 1, 1, 1, 1, 1, 1, 0,\n",
       "       1, 1, 1, 1, 1, 0, 1, 1, 1, 1, 1, 1, 1, 1, 1, 1, 1, 0, 1, 1, 1, 1,\n",
       "       0, 1, 1, 1, 1, 1, 1, 1, 1, 1, 1, 1, 0, 1, 1, 0, 0, 1, 1, 1, 1, 1,\n",
       "       1, 1, 1, 1, 1, 1, 1, 1, 1, 1, 1, 1, 1, 0, 1, 1, 1, 1, 1, 1, 1, 1,\n",
       "       1], dtype=int64)"
      ]
     },
     "execution_count": 55,
     "metadata": {},
     "output_type": "execute_result"
    }
   ],
   "source": [
    "y_test_pred"
   ]
  },
  {
   "cell_type": "code",
   "execution_count": 56,
   "metadata": {},
   "outputs": [],
   "source": [
    "from sklearn.metrics import accuracy_score, confusion_matrix\n",
    "import seaborn as sns"
   ]
  },
  {
   "cell_type": "code",
   "execution_count": 57,
   "metadata": {},
   "outputs": [
    {
     "name": "stdout",
     "output_type": "stream",
     "text": [
      "accuracy_score: 0.809\n"
     ]
    },
    {
     "data": {
      "image/png": "[encoded data removed]",
      "text/plain": [
       "<Figure size 720x720 with 1 Axes>"
      ]
     },
     "metadata": {
      "needs_background": "light"
     },
     "output_type": "display_data"
    }
   ],
   "source": [
    "print(f\"accuracy_score: {accuracy_score(y_test, y_test_pred):.3f}\")\n",
    "\n",
    "plt.figure(figsize=(10,10))\n",
    "sns.heatmap(confusion_matrix(y_test, y_test_pred), \n",
    "      cmap=\"Blues\", annot=True, fmt=\"d\", cbar=False,\n",
    "      xticklabels=class_map_new.keys(), yticklabels=class_map_new.keys())\n",
    "plt.title(\"Confusion Matrix\")\n",
    "plt.show()"
   ]
  },
  {
   "cell_type": "code",
   "execution_count": null,
   "metadata": {},
   "outputs": [],
   "source": [
    "# 畫圖 train/test Accuracy plot\n",
    "history.history.keys()\n",
    "# # train/valid Plot\n",
    "import matplotlib.pyplot as plt\n",
    "plt.title('Accuracy of train and test')\n",
    "plt.plot(history.history['accuracy'], color='red')\n",
    "plt.plot(history.history['val_accuracy'], color='blue')\n",
    "plt.xlabel('Epoch')\n",
    "plt.ylabel('Accuracy')\n",
    "plt.grid()\n",
    "plt.show()"
   ]
  },
  {
   "cell_type": "code",
   "execution_count": null,
   "metadata": {},
   "outputs": [],
   "source": [
    "# 畫圖 train/test Loss/cost plot\n",
    "plt.title('Loss of train and test')\n",
    "plt.plot(history.history['loss'], color='red')\n",
    "plt.plot(history.history['val_loss'], color='blue')\n",
    "plt.xlabel('Epoch')\n",
    "plt.ylabel('Loss')\n",
    "plt.grid()\n",
    "plt.show()"
   ]
  },
  {
   "cell_type": "code",
   "execution_count": null,
   "metadata": {},
   "outputs": [],
   "source": [
    "#F1-score\n",
    "from  sklearn.metrics import classification_report\n",
    "print(classification_report(y_test,y_test_pred))"
   ]
  },
  {
   "cell_type": "markdown",
   "metadata": {},
   "source": [
    "# Upload from df"
   ]
  },
  {
   "cell_type": "code",
   "execution_count": null,
   "metadata": {},
   "outputs": [],
   "source": [
    "look_up = { 0:'asparagus', 1:'bambooshoots', 2:'betel', 3:'broccoli', 4:'cauliflower', \n",
    "         5:'chinesecabbage', 6:'chinesechives', 7:'custardapple', 8:'grape', 9:'greenhouse', \n",
    "         10:'greenonion', 11:'kale', 12:'lemon', 13:'lettuce', 14:'litchi', 15:'longan', \n",
    "         16:'loofah', 17:'mango', 18:'onion', 19:'others', 20:'papaya', 21:'passionfruit', \n",
    "         22:'pear', 23:'pennisetum', 24:'redbeans', 25:'roseapple', 26:'sesbania', 27:'soybeans', \n",
    "         28:'sunhemp', 29:'sweetpotato', 30:'taro', 31:'tea', 32:'waterbamboo'}"
   ]
  },
  {
   "cell_type": "code",
   "execution_count": null,
   "metadata": {},
   "outputs": [],
   "source": [
    "from glob import glob\n",
    "img_shape=(256,256)\n",
    "jpglist = glob('F:\\\\AICUP\\\\public_400\\\\*.[jJ][pP][gG]')#把路徑下的所有圖片名稱變成一個列表\n",
    "jpglist"
   ]
  },
  {
   "cell_type": "code",
   "execution_count": null,
   "metadata": {},
   "outputs": [],
   "source": [
    "#predict from df\n",
    "testdf = pd.DataFrame({\"img_path\":jpglist})\n",
    "testdf"
   ]
  },
  {
   "cell_type": "code",
   "execution_count": null,
   "metadata": {},
   "outputs": [],
   "source": [
    "batch_size = 16\n",
    "test_datagen = ImageDataGenerator(preprocessing_function=preprocess_input)"
   ]
  },
  {
   "cell_type": "code",
   "execution_count": null,
   "metadata": {},
   "outputs": [],
   "source": [
    "#predict from df\n",
    "test_generator = test_datagen.flow_from_dataframe(\n",
    "                              dataframe=testdf,#need to be changed\n",
    "                              directory=\"\",\n",
    "                              x_col=\"img_path\",\n",
    "                              y_col=\"\",\n",
    "                              target_size=img_shape,\n",
    "                              batch_size=batch_size,\n",
    "                              class_mode=None,\n",
    "                              shuffle=False)"
   ]
  },
  {
   "cell_type": "code",
   "execution_count": null,
   "metadata": {},
   "outputs": [],
   "source": [
    "#predict from df\n",
    "y_test_predprob = model.predict(test_generator,verbose=1)\n",
    "y_test_pred = y_test_predprob.argmax(-1)\n",
    "y_test_pred"
   ]
  },
  {
   "cell_type": "code",
   "execution_count": null,
   "metadata": {},
   "outputs": [],
   "source": [
    "#predict from df\n",
    "pred_label=list()\n",
    "for i in range(len(y_test_pred)):\n",
    "    pred_label.append(y_test_pred[i])"
   ]
  },
  {
   "cell_type": "code",
   "execution_count": null,
   "metadata": {},
   "outputs": [],
   "source": [
    "#predict from df\n",
    "filelist=list()\n",
    "for file in jpglist:\n",
    "    file=file.split('\\\\')[-1]\n",
    "    print(file)\n",
    "    filelist.append(file)"
   ]
  },
  {
   "cell_type": "code",
   "execution_count": null,
   "metadata": {},
   "outputs": [],
   "source": [
    "#predict from df\n",
    "import pandas as pd\n",
    "submit = pd.DataFrame(filelist,columns=['filename'])\n",
    "submit"
   ]
  },
  {
   "cell_type": "code",
   "execution_count": null,
   "metadata": {},
   "outputs": [],
   "source": [
    "#predict from df\n",
    "submit['label'] = pd.DataFrame(pred_label)\n",
    "submit['label'] = submit['label'].map(look_up)\n",
    "submit"
   ]
  },
  {
   "cell_type": "code",
   "execution_count": null,
   "metadata": {},
   "outputs": [],
   "source": [
    "#predict from df\n",
    "submit.to_csv('F:\\\\AICUP\\\\upload\\\\submission66.csv',index=False)# index=False去掉索引"
   ]
  },
  {
   "cell_type": "markdown",
   "metadata": {},
   "source": [
    "# Upload from single img"
   ]
  },
  {
   "cell_type": "code",
   "execution_count": null,
   "metadata": {},
   "outputs": [],
   "source": [
    "#predict from single img\n",
    "pred_label=list()\n",
    "\n",
    "for jpg in jpglist:\n",
    "    img_path=jpg\n",
    "    # preprocess image\n",
    "    image = tf.keras.preprocessing.image.load_img( img_path, target_size=img_shape)\n",
    "    input_arr = tf.keras.preprocessing.image.img_to_array(image)\n",
    "    input_arr = preprocess_input( np.array([input_arr]) ) # Convert single image to a batch.\n",
    "\n",
    "    # predict on image\n",
    "    predictions = model.predict(input_arr).argmax()\n",
    "    print(predictions)\n",
    "    pred_label.append(predictions)"
   ]
  },
  {
   "cell_type": "code",
   "execution_count": null,
   "metadata": {},
   "outputs": [],
   "source": [
    "#predict from single img\n",
    "filelist=list()\n",
    "for file in jpglist:\n",
    "    file=file.split('\\\\')[-1]\n",
    "    print(file)\n",
    "    filelist.append(file)"
   ]
  },
  {
   "cell_type": "code",
   "execution_count": null,
   "metadata": {},
   "outputs": [],
   "source": [
    "#predict from single img\n",
    "import pandas as pd\n",
    "submit = pd.DataFrame(filelist,columns=['filename'])\n",
    "submit"
   ]
  },
  {
   "cell_type": "code",
   "execution_count": null,
   "metadata": {},
   "outputs": [],
   "source": [
    "#predict from single img\n",
    "submit['label'] = pd.DataFrame(pred_label)\n",
    "submit['label'] = submit['label'].map(look_up)\n",
    "submit"
   ]
  },
  {
   "cell_type": "code",
   "execution_count": null,
   "metadata": {},
   "outputs": [],
   "source": [
    "#predict from single img\n",
    "submit.to_csv('F:\\\\AICUP\\\\upload\\\\submission643.csv',index=False)# index=False去掉索引"
   ]
  },
  {
   "cell_type": "markdown",
   "metadata": {},
   "source": [
    "# Grad Cam"
   ]
  },
  {
   "cell_type": "code",
   "execution_count": null,
   "metadata": {},
   "outputs": [],
   "source": [
    "#model.save('D:\\\\AICUP\\\\trainset_400\\\\model-logs\\\\xception(0.607).h5')\n",
    "#model=keras.models.load_model('D:\\\\AICUP\\\\trainset_400\\\\model-logs\\\\basic_model-best-model-test000.h5')"
   ]
  },
  {
   "cell_type": "code",
   "execution_count": null,
   "metadata": {},
   "outputs": [],
   "source": [
    "#compare the differences between y_test_pred and y_test\n",
    "index=0\n",
    "wrong_index=list()\n",
    "for i in range(len(y_test)):\n",
    "    if y_test[i]!=y_test_pred[i]:\n",
    "        wrong_index.append(index)\n",
    "    index+=1\n",
    "print(wrong_index)\n",
    "print(len(wrong_index))"
   ]
  },
  {
   "cell_type": "code",
   "execution_count": null,
   "metadata": {},
   "outputs": [],
   "source": [
    "wrong_img=list()\n",
    "for i in wrong_index:\n",
    "    wrong_img.append(test_list_new.iloc[i].img_path)\n",
    "len(wrong_img)"
   ]
  },
  {
   "cell_type": "code",
   "execution_count": null,
   "metadata": {},
   "outputs": [],
   "source": [
    "wrong_img_label=list()\n",
    "for i in wrong_index:\n",
    "    wrong_img_label.append(test_list_new.iloc[i].label)\n",
    "len(wrong_img_label)"
   ]
  },
  {
   "cell_type": "code",
   "execution_count": null,
   "metadata": {},
   "outputs": [],
   "source": [
    "# from tensorflow.keras.applications.resnet50 import ResNet50, preprocess_input\n",
    "from tensorflow.keras.applications.xception import Xception,preprocess_input\n",
    "#讀取影像並縮放為模型input的大小\n",
    "def show_gradcam(IMG_PATH,LAYER_NAME,CLASS_INDEX):\n",
    "\n",
    "    img = tf.keras.preprocessing.image.load_img( IMG_PATH, target_size=img_shape )\n",
    "    img = tf.keras.preprocessing.image.img_to_array(img)\n",
    "\n",
    "    img = np.array([img])  # Convert single image to a batch.\n",
    "\n",
    "    #把影像進行對應的前處理\n",
    "    img = preprocess_input(img)\n",
    "\n",
    "    grad_model = tf.keras.models.Model([model.inputs], [model.get_layer(LAYER_NAME).output, model.output])\n",
    "\n",
    "    with tf.GradientTape() as tape:\n",
    "        conv_outputs, predictions = grad_model(img)\n",
    "        loss = predictions[:, CLASS_INDEX]\n",
    "\n",
    "    output = conv_outputs[0]\n",
    "    grads = tape.gradient(loss, conv_outputs)[0]\n",
    "\n",
    "    gate_f = tf.cast(output > 0, 'float32')\n",
    "    gate_r = tf.cast(grads > 0, 'float32')\n",
    "    guided_grads = tf.cast(output > 0, 'float32') * tf.cast(grads > 0, 'float32') * grads\n",
    "\n",
    "    weights = tf.reduce_mean(guided_grads, axis=(0, 1))\n",
    "\n",
    "    cam = np.ones(output.shape[0: 2], dtype = np.float32)\n",
    "\n",
    "    for i, w in enumerate(weights):\n",
    "        cam += w * output[:, :, i]\n",
    "\n",
    "    cam = cv2.resize(cam.numpy(), img_shape)\n",
    "    cam = np.maximum(cam, 0)\n",
    "    heatmap = (cam - cam.min()) / (cam.max() - cam.min())\n",
    "\n",
    "    cam = cv2.applyColorMap(np.uint8(255*heatmap), cv2.COLORMAP_JET)\n",
    "\n",
    "    output_image = cv2.addWeighted(cv2.cvtColor(img[0].astype('uint8'), cv2.COLOR_RGB2BGR), 0.5, cam, 1, 0)\n",
    "\n",
    "    #cv2.imwrite('cam.png', output_image)\n",
    "\n",
    "    output_image = cv2.cvtColor(output_image, cv2.COLOR_BGR2RGB)\n",
    "    return plt.imshow(output_image)"
   ]
  },
  {
   "cell_type": "code",
   "execution_count": null,
   "metadata": {},
   "outputs": [],
   "source": [
    "def predict_one(img_size,img_path,model_path):\n",
    "    # load model\n",
    "    model = keras.models.load_model(model_path)\n",
    "\n",
    "    # preprocess image\n",
    "    image = tf.keras.preprocessing.image.load_img( img_path, target_size=(img_size, img_size))\n",
    "    input_arr = keras.preprocessing.image.img_to_array(image)\n",
    "    input_arr = preprocess_input( np.array([input_arr]) ) # Convert single image to a batch.\n",
    "\n",
    "    # predict on image\n",
    "    predictions = model.predict(input_arr)\n",
    "    return predictions.argmax()"
   ]
  },
  {
   "cell_type": "code",
   "execution_count": null,
   "metadata": {},
   "outputs": [],
   "source": [
    "def show_result(img_size,img_path,model_path,LAYER_NAME,CLASS_INDEX):\n",
    "    result=predict_one(img_size,img_path,model_path)\n",
    "    print(CLASS_INDEX,'--->',result)\n",
    "    show_gradcam(img_path,LAYER_NAME,CLASS_INDEX)"
   ]
  },
  {
   "cell_type": "code",
   "execution_count": null,
   "metadata": {},
   "outputs": [],
   "source": [
    "img_shape=(400,400)\n",
    "model_path = 'F:\\\\AICUP\\\\trainset_400\\\\model-logs\\\\broccoli_cauliflower.h5'\n",
    "LAYER_NAME = 'block14_sepconv2_act' \n",
    "\n",
    "index=25 #change index to show different image\n",
    "img_path=wrong_img[index]\n",
    "plt.subplot(1,2,1)\n",
    "img=Image.open(img_path)\n",
    "plt.title(img_path)\n",
    "plt.imshow(img)\n",
    "plt.subplot(1,2,2)\n",
    "CLASS_INDEX =int(wrong_img_label[index])\n",
    "show_result(img_size,img_path,model_path,LAYER_NAME,CLASS_INDEX)"
   ]
  },
  {
   "cell_type": "code",
   "execution_count": null,
   "metadata": {},
   "outputs": [],
   "source": []
  }
 ],
 "metadata": {
  "kernelspec": {
   "display_name": "Python 3",
   "language": "python",
   "name": "python3"
  },
  "language_info": {
   "codemirror_mode": {
    "name": "ipython",
    "version": 3
   },
   "file_extension": ".py",
   "mimetype": "text/x-python",
   "name": "python",
   "nbconvert_exporter": "python",
   "pygments_lexer": "ipython3",
   "version": "3.8.5"
  }
 },
 "nbformat": 4,
 "nbformat_minor": 4
}
