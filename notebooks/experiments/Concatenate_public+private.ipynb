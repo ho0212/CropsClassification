{
 "cells": [
  {
   "cell_type": "code",
   "execution_count": 7,
   "metadata": {},
   "outputs": [],
   "source": [
    "import pandas as pd\n",
    "public=pd.read_csv('F:\\\\AICUP\\\\upload\\\\vote.csv')\n",
    "private=pd.read_csv('F:\\\\AICUP\\\\upload_private\\\\vote_private.csv')\n",
    "\n",
    "submit=pd.concat([public,private])\n",
    "submit.to_csv('F:\\\\AICUP\\\\public+private\\\\submit.csv',index=False)"
   ]
  },
  {
   "cell_type": "code",
   "execution_count": 6,
   "metadata": {},
   "outputs": [
    {
     "name": "stdout",
     "output_type": "stream",
     "text": [
      "11148\n",
      "11160\n"
     ]
    }
   ],
   "source": [
    "print(len(public))\n",
    "print(len(private))"
   ]
  },
  {
   "cell_type": "code",
   "execution_count": null,
   "metadata": {},
   "outputs": [],
   "source": []
  }
 ],
 "metadata": {
  "kernelspec": {
   "display_name": "Python 3",
   "language": "python",
   "name": "python3"
  },
  "language_info": {
   "codemirror_mode": {
    "name": "ipython",
    "version": 3
   },
   "file_extension": ".py",
   "mimetype": "text/x-python",
   "name": "python",
   "nbconvert_exporter": "python",
   "pygments_lexer": "ipython3",
   "version": "3.8.5"
  }
 },
 "nbformat": 4,
 "nbformat_minor": 4
}
